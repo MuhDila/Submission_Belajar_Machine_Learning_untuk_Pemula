{
 "nbformat": 4,
 "nbformat_minor": 0,
 "metadata": {
  "colab": {
   "provenance": []
  },
  "kernelspec": {
   "name": "python3",
   "display_name": "Python 3 (ipykernel)",
   "language": "python"
  },
  "language_info": {
   "name": "python"
  }
 },
 "cells": [
  {
   "cell_type": "markdown",
   "source": [
    "# **1. Perkenalan Dataset**\n"
   ],
   "metadata": {
    "id": "kZLRMFl0JyyQ"
   }
  },
  {
   "cell_type": "markdown",
   "source": [
    "Dataset yang digunakan dalam proyek ini berkaitan dengan Garis Kemiskinan di Indonesia, yang mencakup informasi tentang tingkat kemiskinan di berbagai provinsi berdasarkan berbagai faktor seperti jenis konsumsi (makanan & non-makanan), daerah (perkotaan & perdesaan), dan periode waktu.\n",
    "\n",
    "1. **Sumber Dataset**:\n",
    "- Dataset ini dapat diakses di Kaggle dengan nama **Dataset Kesejahteraan Pekerja Indonesia**.\n",
    "- Data ini memuat data **Garis Kemiskinan per Kapita**, dengan pemisahan berdasarkan provinsi, tahun, periode survei, jenis pengeluaran, dan daerah tempat tinggal.\n",
    "2. **Ketentuan Dataset**:\n",
    "- Mengelompokkan provinsi di Indonesia berdasarkan pola garis kemiskinan mereka.\n",
    "- Menentukan apakah ada provinsi dengan karakteristik kemiskinan yang mirip untuk membantu analisis sosial dan ekonomi.\n",
    "- Mengidentifikasi pola perbedaan kemiskinan antara perkotaan dan perdesaan."
   ],
   "metadata": {
    "id": "hssSDn-5n3HR"
   }
  },
  {
   "cell_type": "markdown",
   "source": [
    "# **2. Import Library**"
   ],
   "metadata": {
    "id": "fKADPWcFKlj3"
   }
  },
  {
   "cell_type": "markdown",
   "source": "Pada tahap ini, kita akan mengimpor pustaka Python yang diperlukan untuk analisis data dan pembangunan model clustering.",
   "metadata": {
    "id": "LgA3ERnVn84N"
   }
  },
  {
   "cell_type": "code",
   "source": [
    "import pandas as pd  # Untuk manipulasi dan analisis data\n",
    "import matplotlib.pyplot as plt  # Untuk visualisasi data\n",
    "from yellowbrick.cluster import KElbowVisualizer  # Untuk menentukan jumlah cluster optimal\n",
    "from sklearn.cluster import KMeans, DBSCAN  # Algoritma clustering\n",
    "from sklearn.metrics import silhouette_score  # Untuk evaluasi clustering"
   ],
   "metadata": {
    "id": "BlmvjLY9M4Yj",
    "ExecuteTime": {
     "end_time": "2025-03-17T07:42:50.119901Z",
     "start_time": "2025-03-17T07:42:50.114411Z"
    }
   },
   "outputs": [],
   "execution_count": 7
  },
  {
   "cell_type": "markdown",
   "source": [
    "# **3. Memuat Dataset**"
   ],
   "metadata": {
    "id": "f3YIEnAFKrKL"
   }
  },
  {
   "cell_type": "markdown",
   "source": "Pada tahap ini, kita akan memuat dataset ke dalam notebook dan memastikan bahwa data sudah berhasil diimpor serta sesuai untuk analisis lebih lanjut.",
   "metadata": {
    "id": "Ey3ItwTen_7E"
   }
  },
  {
   "cell_type": "code",
   "source": [
    "# Memuat dataset\n",
    "df = pd.read_csv('Dataset_clustering.csv')\n",
    "\n",
    "# Menampilkan 5 baris pertama dataset\n",
    "print(\"🔹 5 Baris Pertama Dataset:\")\n",
    "display(df.head())\n",
    "\n",
    "# Menampilkan informasi dataset\n",
    "print(\"\\n🔹 Informasi Dataset:\")\n",
    "print(df.info())\n",
    "\n",
    "# Menampilkan jumlah nilai yang hilang di setiap kolom\n",
    "print(\"\\n🔹 Cek Missing Values:\")\n",
    "print(df.isnull().sum())\n",
    "\n",
    "# Menampilkan statistik deskriptif untuk data numerik\n",
    "print(\"\\n🔹 Statistik Deskriptif:\")\n",
    "display(df.describe())"
   ],
   "metadata": {
    "id": "GHCGNTyrM5fS",
    "ExecuteTime": {
     "end_time": "2025-03-17T07:47:38.772823Z",
     "start_time": "2025-03-17T07:47:38.737253Z"
    }
   },
   "outputs": [
    {
     "name": "stdout",
     "output_type": "stream",
     "text": [
      "🔹 5 Baris Pertama Dataset:\n"
     ]
    },
    {
     "data": {
      "text/plain": [
       "  provinsi    jenis     daerah  tahun    periode        gk\n",
       "0     ACEH  MAKANAN  PERKOTAAN   2015      MARET  293697.0\n",
       "1     ACEH  MAKANAN  PERKOTAAN   2015  SEPTEMBER  302128.0\n",
       "2     ACEH  MAKANAN  PERKOTAAN   2016      MARET  306243.0\n",
       "3     ACEH  MAKANAN  PERKOTAAN   2016  SEPTEMBER  319768.0\n",
       "4     ACEH  MAKANAN  PERDESAAN   2015      MARET  297479.0"
      ],
      "text/html": [
       "<div>\n",
       "<style scoped>\n",
       "    .dataframe tbody tr th:only-of-type {\n",
       "        vertical-align: middle;\n",
       "    }\n",
       "\n",
       "    .dataframe tbody tr th {\n",
       "        vertical-align: top;\n",
       "    }\n",
       "\n",
       "    .dataframe thead th {\n",
       "        text-align: right;\n",
       "    }\n",
       "</style>\n",
       "<table border=\"1\" class=\"dataframe\">\n",
       "  <thead>\n",
       "    <tr style=\"text-align: right;\">\n",
       "      <th></th>\n",
       "      <th>provinsi</th>\n",
       "      <th>jenis</th>\n",
       "      <th>daerah</th>\n",
       "      <th>tahun</th>\n",
       "      <th>periode</th>\n",
       "      <th>gk</th>\n",
       "    </tr>\n",
       "  </thead>\n",
       "  <tbody>\n",
       "    <tr>\n",
       "      <th>0</th>\n",
       "      <td>ACEH</td>\n",
       "      <td>MAKANAN</td>\n",
       "      <td>PERKOTAAN</td>\n",
       "      <td>2015</td>\n",
       "      <td>MARET</td>\n",
       "      <td>293697.0</td>\n",
       "    </tr>\n",
       "    <tr>\n",
       "      <th>1</th>\n",
       "      <td>ACEH</td>\n",
       "      <td>MAKANAN</td>\n",
       "      <td>PERKOTAAN</td>\n",
       "      <td>2015</td>\n",
       "      <td>SEPTEMBER</td>\n",
       "      <td>302128.0</td>\n",
       "    </tr>\n",
       "    <tr>\n",
       "      <th>2</th>\n",
       "      <td>ACEH</td>\n",
       "      <td>MAKANAN</td>\n",
       "      <td>PERKOTAAN</td>\n",
       "      <td>2016</td>\n",
       "      <td>MARET</td>\n",
       "      <td>306243.0</td>\n",
       "    </tr>\n",
       "    <tr>\n",
       "      <th>3</th>\n",
       "      <td>ACEH</td>\n",
       "      <td>MAKANAN</td>\n",
       "      <td>PERKOTAAN</td>\n",
       "      <td>2016</td>\n",
       "      <td>SEPTEMBER</td>\n",
       "      <td>319768.0</td>\n",
       "    </tr>\n",
       "    <tr>\n",
       "      <th>4</th>\n",
       "      <td>ACEH</td>\n",
       "      <td>MAKANAN</td>\n",
       "      <td>PERDESAAN</td>\n",
       "      <td>2015</td>\n",
       "      <td>MARET</td>\n",
       "      <td>297479.0</td>\n",
       "    </tr>\n",
       "  </tbody>\n",
       "</table>\n",
       "</div>"
      ]
     },
     "metadata": {},
     "output_type": "display_data"
    },
    {
     "name": "stdout",
     "output_type": "stream",
     "text": [
      "\n",
      "🔹 Informasi Dataset:\n",
      "<class 'pandas.core.frame.DataFrame'>\n",
      "RangeIndex: 5460 entries, 0 to 5459\n",
      "Data columns (total 6 columns):\n",
      " #   Column    Non-Null Count  Dtype  \n",
      "---  ------    --------------  -----  \n",
      " 0   provinsi  5460 non-null   object \n",
      " 1   jenis     5460 non-null   object \n",
      " 2   daerah    5460 non-null   object \n",
      " 3   tahun     5460 non-null   int64  \n",
      " 4   periode   5460 non-null   object \n",
      " 5   gk        5261 non-null   float64\n",
      "dtypes: float64(1), int64(1), object(4)\n",
      "memory usage: 256.1+ KB\n",
      "None\n",
      "\n",
      "🔹 Cek Missing Values:\n",
      "provinsi      0\n",
      "jenis         0\n",
      "daerah        0\n",
      "tahun         0\n",
      "periode       0\n",
      "gk          199\n",
      "dtype: int64\n",
      "\n",
      "🔹 Statistik Deskriptif:\n"
     ]
    },
    {
     "data": {
      "text/plain": [
       "             tahun             gk\n",
       "count  5460.000000    5261.000000\n",
       "mean   2018.115385  303904.185516\n",
       "std       2.577159  158176.024903\n",
       "min    2013.000000   48561.000000\n",
       "25%    2016.000000  144674.000000\n",
       "50%    2018.000000  313294.000000\n",
       "75%    2020.000000  410188.000000\n",
       "max    2022.000000  872843.000000"
      ],
      "text/html": [
       "<div>\n",
       "<style scoped>\n",
       "    .dataframe tbody tr th:only-of-type {\n",
       "        vertical-align: middle;\n",
       "    }\n",
       "\n",
       "    .dataframe tbody tr th {\n",
       "        vertical-align: top;\n",
       "    }\n",
       "\n",
       "    .dataframe thead th {\n",
       "        text-align: right;\n",
       "    }\n",
       "</style>\n",
       "<table border=\"1\" class=\"dataframe\">\n",
       "  <thead>\n",
       "    <tr style=\"text-align: right;\">\n",
       "      <th></th>\n",
       "      <th>tahun</th>\n",
       "      <th>gk</th>\n",
       "    </tr>\n",
       "  </thead>\n",
       "  <tbody>\n",
       "    <tr>\n",
       "      <th>count</th>\n",
       "      <td>5460.000000</td>\n",
       "      <td>5261.000000</td>\n",
       "    </tr>\n",
       "    <tr>\n",
       "      <th>mean</th>\n",
       "      <td>2018.115385</td>\n",
       "      <td>303904.185516</td>\n",
       "    </tr>\n",
       "    <tr>\n",
       "      <th>std</th>\n",
       "      <td>2.577159</td>\n",
       "      <td>158176.024903</td>\n",
       "    </tr>\n",
       "    <tr>\n",
       "      <th>min</th>\n",
       "      <td>2013.000000</td>\n",
       "      <td>48561.000000</td>\n",
       "    </tr>\n",
       "    <tr>\n",
       "      <th>25%</th>\n",
       "      <td>2016.000000</td>\n",
       "      <td>144674.000000</td>\n",
       "    </tr>\n",
       "    <tr>\n",
       "      <th>50%</th>\n",
       "      <td>2018.000000</td>\n",
       "      <td>313294.000000</td>\n",
       "    </tr>\n",
       "    <tr>\n",
       "      <th>75%</th>\n",
       "      <td>2020.000000</td>\n",
       "      <td>410188.000000</td>\n",
       "    </tr>\n",
       "    <tr>\n",
       "      <th>max</th>\n",
       "      <td>2022.000000</td>\n",
       "      <td>872843.000000</td>\n",
       "    </tr>\n",
       "  </tbody>\n",
       "</table>\n",
       "</div>"
      ]
     },
     "metadata": {},
     "output_type": "display_data"
    }
   ],
   "execution_count": 8
  },
  {
   "cell_type": "markdown",
   "source": [
    "# **4. Exploratory Data Analysis (EDA)**\n",
    "\n",
    "Pada tahap ini, Anda akan melakukan **Exploratory Data Analysis (EDA)** untuk memahami karakteristik dataset. EDA bertujuan untuk:\n",
    "\n",
    "1. **Memahami Struktur Data**\n",
    "   - Tinjau jumlah baris dan kolom dalam dataset.\n",
    "   - Tinjau jenis data di setiap kolom (numerikal atau kategorikal).\n",
    "\n",
    "2. **Menangani Data yang Hilang**\n",
    "   - Identifikasi dan analisis data yang hilang (*missing values*). Tentukan langkah-langkah yang diperlukan untuk menangani data yang hilang, seperti pengisian atau penghapusan data tersebut.\n",
    "\n",
    "3. **Analisis Distribusi dan Korelasi**\n",
    "   - Analisis distribusi variabel numerik dengan statistik deskriptif dan visualisasi seperti histogram atau boxplot.\n",
    "   - Periksa hubungan antara variabel menggunakan matriks korelasi atau scatter plot.\n",
    "\n",
    "4. **Visualisasi Data**\n",
    "   - Buat visualisasi dasar seperti grafik distribusi dan diagram batang untuk variabel kategorikal.\n",
    "   - Gunakan heatmap atau pairplot untuk menganalisis korelasi antar variabel.\n",
    "\n",
    "Tujuan dari EDA adalah untuk memperoleh wawasan awal yang mendalam mengenai data dan menentukan langkah selanjutnya dalam analisis atau pemodelan."
   ],
   "metadata": {
    "id": "bgZkbJLpK9UR"
   }
  },
  {
   "cell_type": "code",
   "source": [
    "#Type your code here"
   ],
   "metadata": {
    "id": "dKeejtvxM6X1"
   },
   "execution_count": null,
   "outputs": []
  },
  {
   "cell_type": "markdown",
   "source": [
    "# **5. Data Preprocessing**"
   ],
   "metadata": {
    "id": "cpgHfgnSK3ip"
   }
  },
  {
   "cell_type": "markdown",
   "source": [
    "Pada tahap ini, data preprocessing adalah langkah penting untuk memastikan kualitas data sebelum digunakan dalam model machine learning. Data mentah sering kali mengandung nilai kosong, duplikasi, atau rentang nilai yang tidak konsisten, yang dapat memengaruhi kinerja model. Oleh karena itu, proses ini bertujuan untuk membersihkan dan mempersiapkan data agar analisis berjalan optimal.\n",
    "\n",
    "Berikut adalah tahapan-tahapan yang bisa dilakukan, tetapi **tidak terbatas** pada:\n",
    "1. Menghapus atau Menangani Data Kosong (Missing Values)\n",
    "2. Menghapus Data Duplikat\n",
    "3. Normalisasi atau Standarisasi Fitur\n",
    "4. Deteksi dan Penanganan Outlier\n",
    "5. Encoding Data Kategorikal\n",
    "6. Binning (Pengelompokan Data)\n",
    "\n",
    "Cukup sesuaikan dengan karakteristik data yang kamu gunakan yah."
   ],
   "metadata": {
    "id": "COf8KUPXLg5r"
   }
  },
  {
   "cell_type": "code",
   "source": [
    "#Type your code here"
   ],
   "metadata": {
    "id": "WzBGjcbQM7N8"
   },
   "execution_count": null,
   "outputs": []
  },
  {
   "cell_type": "markdown",
   "source": [
    "# **6. Pembangunan Model Clustering**"
   ],
   "metadata": {
    "id": "BR73dCnrLEiq"
   }
  },
  {
   "cell_type": "markdown",
   "source": [
    "## **a. Pembangunan Model Clustering**"
   ],
   "metadata": {
    "id": "Fkd_QHXWMBDr"
   }
  },
  {
   "cell_type": "markdown",
   "source": [
    "Pada tahap ini, Anda membangun model clustering dengan memilih algoritma yang sesuai untuk mengelompokkan data berdasarkan kesamaan. Berikut adalah **rekomendasi** tahapannya.\n",
    "1. Pilih algoritma clustering yang sesuai.\n",
    "2. Latih model dengan data menggunakan algoritma tersebut."
   ],
   "metadata": {
    "id": "Kn6Y2qbqMVLP"
   }
  },
  {
   "cell_type": "code",
   "source": [
    "#Type your code here"
   ],
   "metadata": {
    "id": "hgYvwWOzM93L"
   },
   "execution_count": null,
   "outputs": []
  },
  {
   "cell_type": "markdown",
   "source": [
    "## **b. Evaluasi Model Clustering**"
   ],
   "metadata": {
    "id": "zsGVwzPKMEvn"
   }
  },
  {
   "cell_type": "markdown",
   "source": [
    "Untuk menentukan jumlah cluster yang optimal dalam model clustering, Anda dapat menggunakan metode Elbow atau Silhouette Score.\n",
    "\n",
    "Metode ini membantu kita menemukan jumlah cluster yang memberikan pemisahan terbaik antar kelompok data, sehingga model yang dibangun dapat lebih efektif. Berikut adalah **rekomendasi** tahapannya.\n",
    "1. Gunakan Silhouette Score dan Elbow Method untuk menentukan jumlah cluster optimal.\n",
    "2. Hitung Silhouette Score sebagai ukuran kualitas cluster."
   ],
   "metadata": {
    "id": "qk63ew39MeBf"
   }
  },
  {
   "cell_type": "code",
   "source": [
    "#Type your code here"
   ],
   "metadata": {
    "id": "yrPkK_bvM-Ya"
   },
   "execution_count": null,
   "outputs": []
  },
  {
   "cell_type": "markdown",
   "source": [
    "## **c. Feature Selection (Opsional)**"
   ],
   "metadata": {
    "id": "vWZp5vKNQddd"
   }
  },
  {
   "cell_type": "markdown",
   "source": [
    "Silakan lakukan feature selection jika Anda membutuhkan optimasi model clustering. Jika Anda menerapkan proses ini, silakan lakukan pemodelan dan evaluasi kembali menggunakan kolom-kolom hasil feature selection. Terakhir, bandingkan hasil performa model sebelum dan sesudah menerapkan feature selection."
   ],
   "metadata": {
    "id": "QIHKgE07Q4c0"
   }
  },
  {
   "cell_type": "code",
   "source": [
    "#Type your code here"
   ],
   "metadata": {
    "id": "Vbstha0PRUpI"
   },
   "execution_count": null,
   "outputs": []
  },
  {
   "cell_type": "markdown",
   "source": [
    "## **d. Visualisasi Hasil Clustering**"
   ],
   "metadata": {
    "id": "nn01TKkLLRiF"
   }
  },
  {
   "cell_type": "markdown",
   "source": [
    "Setelah model clustering dilatih dan jumlah cluster optimal ditentukan, langkah selanjutnya adalah menampilkan hasil clustering melalui visualisasi.\n",
    "\n",
    "Berikut adalah **rekomendasi** tahapannya.\n",
    "1. Tampilkan hasil clustering dalam bentuk visualisasi, seperti grafik scatter plot atau 2D PCA projection."
   ],
   "metadata": {
    "id": "gaz0fnhhMkRI"
   }
  },
  {
   "cell_type": "code",
   "source": [
    "#Type your code here"
   ],
   "metadata": {
    "id": "lfOjVvfYM-4v"
   },
   "execution_count": null,
   "outputs": []
  },
  {
   "cell_type": "markdown",
   "source": [
    "## **e. Analisis dan Interpretasi Hasil Cluster**"
   ],
   "metadata": {
    "id": "X4eydPWJLH4I"
   }
  },
  {
   "cell_type": "markdown",
   "source": [
    "### Interpretasi Target"
   ],
   "metadata": {
    "id": "mxTeTkTkA7o6"
   }
  },
  {
   "cell_type": "markdown",
   "source": [
    "**Tutorial: Melakukan Inverse Transform pada Data Target Setelah Clustering**\n",
    "\n",
    "Setelah melakukan clustering dengan model **KMeans**, kita perlu mengembalikan data yang telah diubah (normalisasi, standarisasi, atau label encoding) ke bentuk aslinya. Berikut adalah langkah-langkahnya.\n",
    "\n",
    "---\n",
    "\n",
    "**1. Tambahkan Hasil Label Cluster ke DataFrame**\n",
    "Setelah mendapatkan hasil clustering, kita tambahkan label cluster ke dalam DataFrame yang telah dinormalisasi.\n",
    "\n",
    "```python\n",
    "df_normalized['Cluster'] = model_kmeans.labels_\n",
    "```\n",
    "\n",
    "Lakukan Inverse Transform pada feature yang sudah dilakukan Labelisasi dan Standararisasi. Berikut code untuk melakukannya:\n",
    "label_encoder.inverse_transform(X_Selected[['Fitur']])\n",
    "\n",
    "Lalu masukkan ke dalam kolom dataset asli atau membuat dataframe baru\n",
    "```python\n",
    "df_normalized['Fitur'] = label_encoder.inverse_transform(df_normalized[['Fitur']])\n",
    "```\n",
    "Masukkan Data yang Sudah Di-Inverse ke dalam Dataset Asli atau Buat DataFrame Baru\n",
    "```python\n",
    "df_original['Fitur'] = df_normalized['Fitur']\n",
    "```"
   ],
   "metadata": {
    "id": "NJDsBARmIsbW"
   }
  },
  {
   "cell_type": "code",
   "source": [
    "# Type your code here\n"
   ],
   "metadata": {
    "id": "ySc78cHdOiaQ"
   },
   "execution_count": null,
   "outputs": []
  },
  {
   "cell_type": "markdown",
   "source": [
    "### Inverse Data Jika Melakukan Normalisasi/Standardisasi"
   ],
   "metadata": {
    "id": "vITTtdoT_fIF"
   }
  },
  {
   "cell_type": "markdown",
   "source": [
    "Inverse Transform untuk Data yang Distandarisasi\n",
    "Jika data numerik telah dinormalisasi menggunakan StandardScaler atau MinMaxScaler, kita bisa mengembalikannya ke skala asli:\n",
    "```python\n",
    "df_normalized[['Fitur_Numerik']] = scaler.inverse_transform(df_normalized[['Fitur_Numerik']])\n",
    "```"
   ],
   "metadata": {
    "id": "bUGkyAvnKRrk"
   }
  },
  {
   "cell_type": "code",
   "source": [
    "# Type your code here"
   ],
   "metadata": {
    "id": "aIGQ_6wKGbVz"
   },
   "execution_count": null,
   "outputs": []
  },
  {
   "cell_type": "markdown",
   "source": [
    "Setelah melakukan clustering, langkah selanjutnya adalah menganalisis karakteristik dari masing-masing cluster berdasarkan fitur yang tersedia.\n",
    "\n",
    "Berikut adalah **rekomendasi** tahapannya.\n",
    "1. Analisis karakteristik tiap cluster berdasarkan fitur yang tersedia (misalnya, distribusi nilai dalam cluster).\n",
    "2. Berikan interpretasi: Apakah hasil clustering sesuai dengan ekspektasi dan logika bisnis? Apakah ada pola tertentu yang bisa dimanfaatkan?"
   ],
   "metadata": {
    "id": "SENfLnfRMpC-"
   }
  },
  {
   "cell_type": "code",
   "source": [
    "# Type your code here"
   ],
   "metadata": {
    "id": "MFq0x-OzM_Wt"
   },
   "execution_count": null,
   "outputs": []
  },
  {
   "cell_type": "markdown",
   "source": [
    "Tulis hasil interpretasinya di sini.\n",
    "1. Cluster 1:\n",
    "2. Cluster 2:\n",
    "3. Cluster 3:"
   ],
   "metadata": {
    "id": "JfgVMEBDS3KG"
   }
  },
  {
   "cell_type": "markdown",
   "source": [
    "# Contoh interpretasi [TEMPLATE]\n",
    "# Analisis Karakteristik Cluster dari Model KMeans\n",
    "\n",
    "Berikut adalah analisis karakteristik untuk setiap cluster yang dihasilkan dari model KMeans.\n",
    "\n",
    "## Cluster 1:\n",
    "- **Rata-rata Annual Income (k$):** 48,260\n",
    "- **Rata-rata Spending Score (1-100):** 56.48\n",
    "- **Analisis:** Cluster ini mencakup pelanggan dengan pendapatan tahunan menengah dan tingkat pengeluaran yang cukup tinggi. Pelanggan dalam cluster ini cenderung memiliki daya beli yang moderat dan mereka lebih cenderung untuk membelanjakan sebagian besar pendapatan mereka.\n",
    "\n",
    "## Cluster 2:\n",
    "- **Rata-rata Annual Income (k$):** 86,540\n",
    "- **Rata-rata Spending Score (1-100):** 82.13\n",
    "- **Analisis:** Cluster ini menunjukkan pelanggan dengan pendapatan tahunan tinggi dan pengeluaran yang sangat tinggi. Pelanggan di cluster ini merupakan kelompok premium dengan daya beli yang kuat dan cenderung mengeluarkan uang dalam jumlah besar untuk produk atau layanan.\n",
    "\n",
    "## Cluster 3:\n",
    "- **Rata-rata Annual Income (k$):** 87,000\n",
    "- **Rata-rata Spending Score (1-100):** 18.63\n",
    "- **Analisis:** Cluster ini terdiri dari pelanggan dengan pendapatan tahunan yang tinggi tetapi pengeluaran yang rendah. Mereka mungkin memiliki kapasitas finansial yang baik namun tidak terlalu aktif dalam berbelanja. Ini bisa menunjukkan bahwa mereka lebih selektif dalam pengeluaran mereka atau mungkin lebih cenderung untuk menyimpan uang."
   ],
   "metadata": {
    "id": "hOygRVqs_vdU"
   }
  },
  {
   "cell_type": "markdown",
   "source": [
    "# **7. Mengeksport Data**\n",
    "\n",
    "Simpan hasilnya ke dalam file CSV."
   ],
   "metadata": {
    "id": "jaYP1fx5VgWO"
   }
  },
  {
   "cell_type": "code",
   "source": [],
   "metadata": {
    "id": "fkbg_o80aRSH"
   },
   "execution_count": null,
   "outputs": []
  }
 ]
}
